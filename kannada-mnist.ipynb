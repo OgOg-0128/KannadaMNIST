{
 "cells": [
  {
   "cell_type": "markdown",
   "id": "de61a3cc",
   "metadata": {
    "papermill": {
     "duration": 0.002544,
     "end_time": "2023-06-24T06:20:11.642192",
     "exception": false,
     "start_time": "2023-06-24T06:20:11.639648",
     "status": "completed"
    },
    "tags": []
   },
   "source": [
    "# Kannada MNIST first train sample"
   ]
  },
  {
   "cell_type": "markdown",
   "id": "7ca771db",
   "metadata": {
    "papermill": {
     "duration": 0.001673,
     "end_time": "2023-06-24T06:20:11.646052",
     "exception": false,
     "start_time": "2023-06-24T06:20:11.644379",
     "status": "completed"
    },
    "tags": []
   },
   "source": [
    "## import ライブラリの列挙"
   ]
  },
  {
   "cell_type": "markdown",
   "id": "3fb233f0",
   "metadata": {
    "papermill": {
     "duration": 0.001631,
     "end_time": "2023-06-24T06:20:11.649614",
     "exception": false,
     "start_time": "2023-06-24T06:20:11.647983",
     "status": "completed"
    },
    "tags": []
   },
   "source": [
    "## 入力データの読み込み"
   ]
  },
  {
   "cell_type": "markdown",
   "id": "016a2c69",
   "metadata": {
    "papermill": {
     "duration": 0.001598,
     "end_time": "2023-06-24T06:20:11.653064",
     "exception": false,
     "start_time": "2023-06-24T06:20:11.651466",
     "status": "completed"
    },
    "tags": []
   },
   "source": [
    "## 入力データをTrainとValidationに分割"
   ]
  },
  {
   "cell_type": "markdown",
   "id": "ef653e2d",
   "metadata": {
    "papermill": {
     "duration": 0.001526,
     "end_time": "2023-06-24T06:20:11.656393",
     "exception": false,
     "start_time": "2023-06-24T06:20:11.654867",
     "status": "completed"
    },
    "tags": []
   },
   "source": [
    "## NW構造の定義"
   ]
  },
  {
   "cell_type": "markdown",
   "id": "94acc038",
   "metadata": {
    "papermill": {
     "duration": 0.002295,
     "end_time": "2023-06-24T06:20:11.660501",
     "exception": false,
     "start_time": "2023-06-24T06:20:11.658206",
     "status": "completed"
    },
    "tags": []
   },
   "source": [
    "## ハイパーパラメータの定義"
   ]
  },
  {
   "cell_type": "markdown",
   "id": "e525d082",
   "metadata": {
    "papermill": {
     "duration": 0.001658,
     "end_time": "2023-06-24T06:20:11.664216",
     "exception": false,
     "start_time": "2023-06-24T06:20:11.662558",
     "status": "completed"
    },
    "tags": []
   },
   "source": [
    "## Train & Validation ループ"
   ]
  },
  {
   "cell_type": "code",
   "execution_count": null,
   "id": "629af1d4",
   "metadata": {
    "papermill": {
     "duration": 0.00167,
     "end_time": "2023-06-24T06:20:11.667667",
     "exception": false,
     "start_time": "2023-06-24T06:20:11.665997",
     "status": "completed"
    },
    "tags": []
   },
   "outputs": [],
   "source": []
  }
 ],
 "metadata": {
  "kernelspec": {
   "display_name": "Python 3",
   "language": "python",
   "name": "python3"
  },
  "language_info": {
   "codemirror_mode": {
    "name": "ipython",
    "version": 3
   },
   "file_extension": ".py",
   "mimetype": "text/x-python",
   "name": "python",
   "nbconvert_exporter": "python",
   "pygments_lexer": "ipython3",
   "version": "3.10.10"
  },
  "papermill": {
   "default_parameters": {},
   "duration": 10.026984,
   "end_time": "2023-06-24T06:20:12.491532",
   "environment_variables": {},
   "exception": null,
   "input_path": "__notebook__.ipynb",
   "output_path": "__notebook__.ipynb",
   "parameters": {},
   "start_time": "2023-06-24T06:20:02.464548",
   "version": "2.4.0"
  }
 },
 "nbformat": 4,
 "nbformat_minor": 5
}
